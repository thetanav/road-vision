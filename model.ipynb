{
 "cells": [
  {
   "cell_type": "markdown",
   "metadata": {},
   "source": [
    "# Dowload the Dataset\n"
   ]
  },
  {
   "cell_type": "code",
   "execution_count": 3,
   "metadata": {},
   "outputs": [
    {
     "name": "stdout",
     "output_type": "stream",
     "text": [
      "^C\n"
     ]
    },
    {
     "name": "stdout",
     "output_type": "stream",
     "text": [
      "Dataset URL: https://www.kaggle.com/datasets/mbsoroush/car-camera-photos\n",
      "License(s): other\n",
      "Downloading car-camera-photos.zip to d:\\Code\\py\\RoadSignDetection\n",
      "\n"
     ]
    },
    {
     "name": "stderr",
     "output_type": "stream",
     "text": [
      "\n",
      "  0%|          | 0.00/891M [00:00<?, ?B/s]\n",
      " 11%|█         | 100M/891M [00:00<00:00, 1.05GB/s]\n",
      " 23%|██▎       | 205M/891M [00:00<00:00, 1.08GB/s]\n",
      " 35%|███▍      | 308M/891M [00:00<00:00, 800MB/s] \n",
      " 44%|████▍     | 391M/891M [00:00<00:00, 723MB/s]\n",
      " 52%|█████▏    | 464M/891M [00:00<00:00, 703MB/s]\n",
      " 60%|█████▉    | 534M/891M [00:00<00:00, 695MB/s]\n",
      " 68%|██████▊   | 602M/891M [00:00<00:00, 694MB/s]\n",
      " 75%|███████▌  | 670M/891M [00:00<00:00, 673MB/s]\n",
      " 83%|████████▎ | 736M/891M [00:01<00:00, 677MB/s]\n",
      " 90%|█████████ | 802M/891M [00:01<00:00, 681MB/s]\n",
      " 98%|█████████▊| 870M/891M [00:01<00:00, 689MB/s]\n",
      "100%|██████████| 891M/891M [00:01<00:00, 722MB/s]\n"
     ]
    }
   ],
   "source": [
    "#!/bin/bash\n",
    "!kaggle datasets download mbsoroush/car-camera-photos"
   ]
  },
  {
   "cell_type": "markdown",
   "metadata": {},
   "source": [
    "# Validating Model\n"
   ]
  },
  {
   "cell_type": "code",
   "execution_count": null,
   "metadata": {},
   "outputs": [],
   "source": [
    "!pip install ultralytics"
   ]
  },
  {
   "cell_type": "code",
   "execution_count": 1,
   "metadata": {},
   "outputs": [
    {
     "ename": "",
     "evalue": "",
     "output_type": "error",
     "traceback": [
      "\u001b[1;31mThe Kernel crashed while executing code in the current cell or a previous cell. \n",
      "\u001b[1;31mPlease review the code in the cell(s) to identify a possible cause of the failure. \n",
      "\u001b[1;31mClick <a href='https://aka.ms/vscodeJupyterKernelCrash'>here</a> for more info. \n",
      "\u001b[1;31mView Jupyter <a href='command:jupyter.viewOutput'>log</a> for further details."
     ]
    }
   ],
   "source": [
    "import os\n",
    "import shutil\n",
    "import cv2\n",
    "import numpy as np\n",
    "import pandas as pd\n",
    "from IPython.display import Video\n",
    "from ultralytics import YOLO\n",
    "from PIL import Image, ImageDraw\n",
    "import matplotlib.pyplot as plt\n",
    "import plotly.express as px\n",
    "import plotly.graph_objects as go\n",
    "from plotly.subplots import make_subplots\n",
    "from matplotlib import animation, rc\n",
    "\n",
    "rc(\"animation\", html=\"jshtml\")"
   ]
  }
 ],
 "metadata": {
  "kernelspec": {
   "display_name": "base",
   "language": "python",
   "name": "python3"
  },
  "language_info": {
   "codemirror_mode": {
    "name": "ipython",
    "version": 3
   },
   "file_extension": ".py",
   "mimetype": "text/x-python",
   "name": "python",
   "nbconvert_exporter": "python",
   "pygments_lexer": "ipython3",
   "version": "3.12.7"
  }
 },
 "nbformat": 4,
 "nbformat_minor": 2
}
